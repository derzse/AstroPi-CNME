{
 "cells": [
  {
   "cell_type": "markdown",
   "metadata": {},
   "source": [
    "## De ce Python?\n",
    "Python este limbajul de programare ales de mulți oameni de știință deoarece oferă o mare putere de analiză și modelare a datelor științifice, cu relativ puține costuri în ceea ce privește timpul de învățare, instalare sau dezvoltare. Este un limbaj pe care îl poți însuși într-un weekend și îl poți folosi pentru tot restul vieții.\n",
    "\n",
    "Python a devenit cel mai popular limbaj de programare din lume datorită sintaxei sale simple, a gamei extinse și a poziției dominante în domeniul Machine Learning.\n",
    "\n",
    "Un punct bun de plecare pentru a descoperi limbajul de programare Python este [tutorialul Python](https://docs.python.org/3.8/tutorial/) oficial. Python este un limbaj de programare puternic și ușor de învatat. Are structuri de date de nivel înalt, eﬁciente și o simplă și la fel de eﬁcientă abordare a programării orientate pe obiect. Sintaxa elegantă și natura sa de limbaj de interpretare, fac din Python un limbaj ideal pentru elaborarea de script-uri și dezvoltarea rapidă de aplicații în multe domenii, pe majoritatea platformelor.\n",
    "\n",
    "[Proiectul Jupyter](https://jupyter.org/)  s-a desprins din proiectul IPython în anul 2014. Proiectul Jupyter constă dintr-o mulțime de proiecte software, open-source, pentru calcul interactiv în browser. Interfața cu utilizatorul este Notebook-ul, o aplicație WEB ce oferă un mediu interactiv de calcul în care se combină execuția codului (în cazul nostru cod Python), cu text explicativ scris uzual sau în format [Markdown](https://daringfireball.net/projects/markdown/), un limbaj de marcare ușor, cu sintaxă de formatare a textului simplu, creat în 2004 de John Gruber și Aaron Swartz și adesea folosit pentru formatarea fișierelor `readme`, pentru scrierea mesajelor în forumurile de discuții online și pentru a crea text îmbogățit folosind un editor de text simplu Markdown.\n",
    "\n",
    "Numele Jupyter este o referință la limbajele de programare de bază acceptate de Jupyter, care sunt [Julia](https://julialang.org/), [Python](https://www.python.org/) și [R](https://www.r-project.org/about.html).\n",
    "\n",
    "Câteva resurse de calitate pe care le-aș menționa ar fi:\n",
    "* [notebook-urile excelente](http://jrjohansson.github.io/) ale lui Rob Johansson, inclusiv [Scientific Computing with Python](https://github.com/jrjohansson/scientific-python-lectures);\n",
    "* [XKCD style graphs in matplotlib](http://nbviewer.ipython.org/url/jakevdp.github.com/downloads/notebooks/XKCD_plots.ipynb);\n",
    "* [A collection of Notebooks for using IPython effectively](https://github.com/odewahn/ipynb-examples.git)\n",
    "* [A gallery of interesting IPython Notebooks](https://github.com/jupyter/jupyter/wiki/A-gallery-of-interesting-Jupyter-Notebooks)"
   ]
  },
  {
   "cell_type": "markdown",
   "metadata": {},
   "source": [
    "## Ce trebuie instalat\n",
    "\n",
    "Aceste note presupun că aveți o distribuție Python care include:\n",
    "\n",
    "* [Python](http://www.python.org) versiunea 3.8;\n",
    "* [Numpy](http://www.numpy.org), extensiile numerice de bază pentru algebră liniară și tablouri multidimensionale;\n",
    "* [Scipy](http://www.scipy.org), biblioteci suplimentare pentru programare științifică;\n",
    "* [Matplotlib](https://matplotlib.org/), biblioteci excelente de reprezentare și graficare;\n",
    "* [IPython](http://ipython.org), cu bibliotecile suplimentare necesare pentru interfața notebook-ului."
   ]
  },
  {
   "cell_type": "markdown",
   "metadata": {},
   "source": [
    "## I. Prezentare generală Python\n",
    "\n",
    "Aceasta este o introducere rapidă în Python. Există o mulțime de alte pagini web pentru a învăța limbajul mai temeinic. Am adunat o listă de link-uri utile, inclusiv către alte resurse de învățare, la sfârșitul acestui notebook. Dacă doriți ceva mai multă profunzime, [Python Tutorial](http://docs.python.org/2/tutorial/) este un loc minunat pentru a începe, la fel ca [Learn Python the Hard Way](https://learnpythonthehardway.org/python3/) sau [Real Python](https://realpython.com/).\n",
    "\n",
    "Lecțiile din acest materuial utilizează notebook-uri Jupyter. O bună introducere în utilizarea notebook-urilor se găsește [în documentația IPython](http://ipython.org/notebook.html), sau în acest [clip video](https://www.youtube.com/watch?v=HW29067qVWk) despre instalarea și utilizare a notebook-urilor. Probabil ar trebui să răsfoiți și [tutorialul IPython](https://ipython.readthedocs.io/en/stable/) dacă aveți timp suficient.\n",
    "\n",
    "Pe scurt, notebook-urile au celule cod (care sunt, în general, urmat de celule rezultat) și celule de text. Celulele text sunt informațiile pe care le citiți acum. Celulele de cod încep cu „In []:” cu un anumit număr în general între paranteze. Dacă introduceți cursorul în celulă de cod și apăsați Shift-Enter, codul va rula în interpretorul Python și rezultatul se va imprima în celula de ieșire. Puteți schimba lucrurile din aceste celule și puteți vedea ce se întâmplă, pentru exersare. Dacă vreți sau trebuie să aflați mai multe, consultați [documentația Jupyter notebook](https://jupyter.org/documentation) sau [tutorialul IPython](https://ipython.readthedocs.io/en/stable/).\n"
   ]
  },
  {
   "cell_type": "markdown",
   "metadata": {},
   "source": [
    "### Utilizarea Python ca un calculator"
   ]
  },
  {
   "cell_type": "markdown",
   "metadata": {},
   "source": [
    "Utilizând bibliotecile `math`, `numpy` și `scipy`, Python depășește de obicei calculatoarele pre-programate. Mai spre sfârșitul acestui material veți învăța cum să utilizați bibliotecile `numpy` și `scipy`. Pentru moment, vom discuta instrumentele de calcul pe care majoritatea oamenilor le folosesc zilnic.\n",
    "\n",
    "Adunarea, scăderea, înmulțirea, divizarea și exponențierea sunt operațiuni de bază. În informatică, operatorul modul și diviziunea întreaga sunt la fel de esențiale, așa că le vom acoperi aici.\n",
    "\n",
    "<table class=\"w3-table-all notranslate\">\n",
    "<tbody><tr>\n",
    "<th style=\"width:20%\">Operator</th>\n",
    "<th style=\"width:40%\">Nume</th>\n",
    "<th style=\"width:40%\">Exemplu</th>\n",
    "</tr>\n",
    "<tr>\n",
    "<td>+</td>\n",
    "<td>Adunare</td>\n",
    "<td>x + y</td>\n",
    "</tr>\n",
    "<tr>\n",
    "<td>-</td>\n",
    "<td>Scădere</td>\n",
    "<td>x - y</td>\n",
    "</tr>\n",
    "<tr>\n",
    "<td>*</td>\n",
    "<td>Înmulțire</td>\n",
    "<td>x * y</td>\n",
    "</tr>\n",
    "<tr>\n",
    "<td>/</td>\n",
    "<td>Împărțire</td>\n",
    "<td>x / y</td>\n",
    "</tr>\n",
    "<tr>\n",
    "<td>%</td>\n",
    "<td>Modul</td>\n",
    "<td>x % y</td>\n",
    "</tr>\n",
    "  <tr>\n",
    "<td>**</td>\n",
    "<td>Exponențiere</td>\n",
    "<td>x ** y</td>\n",
    "  </tr>\n",
    "<tr>\n",
    "<td>//</td>\n",
    "<td>Împărțire întreagă</td>\n",
    "<td>x // y</td>\n",
    "</tr>\n",
    "</tbody></table>\n",
    "\n",
    "Python oferă o metodă opțională din biblioteca **math**, `math.pow ()`, dar ** este mai ușor de utilizat.\n",
    "\n",
    "(Dacă tastați asemenea operații matematice într-un notebook Jupyter sau utilizați altfel un fișier notebook, apăsați Shift-Enter pentru a evalua o celulă.)\n",
    "\n",
    "Pentru multe dintre lucrurile pentru care obișnuim să folosim un calculator de buzunar, putem folosi Python, precum:\n",
    " - adunări"
   ]
  },
  {
   "cell_type": "code",
   "execution_count": 1,
   "metadata": {},
   "outputs": [
    {
     "data": {
      "text/plain": [
       "10"
      ]
     },
     "execution_count": 1,
     "metadata": {},
     "output_type": "execute_result"
    }
   ],
   "source": [
    "7+3"
   ]
  },
  {
   "cell_type": "markdown",
   "metadata": {},
   "source": [
    " - scăderi"
   ]
  },
  {
   "cell_type": "code",
   "execution_count": 2,
   "metadata": {},
   "outputs": [
    {
     "data": {
      "text/plain": [
       "4"
      ]
     },
     "execution_count": 2,
     "metadata": {},
     "output_type": "execute_result"
    }
   ],
   "source": [
    "7-3"
   ]
  },
  {
   "cell_type": "markdown",
   "metadata": {},
   "source": [
    " - înmulțiri"
   ]
  },
  {
   "cell_type": "code",
   "execution_count": 105,
   "metadata": {},
   "outputs": [
    {
     "data": {
      "text/plain": [
       "21"
      ]
     },
     "execution_count": 105,
     "metadata": {},
     "output_type": "execute_result"
    }
   ],
   "source": [
    "7*3"
   ]
  },
  {
   "cell_type": "markdown",
   "metadata": {},
   "source": [
    "Însă există unele probleme în comparație cu utilizarea unui calculator normal de buzunar. În versiunea 2 a limbajului (pentru care nu se mai oferă suport din ianuarie 2020, dar care încă mai este versiunea implicită în unele versiuni vechi de sisteme de operare Linux), împărțirea întreaga în Python, cum este și împărțirea întreagă din C sau Fortran, trunchiază restul și returnează un număr întreg.\n",
    "\n",
    "În versiunea 3 împărțirea returnează însă un rezultat de tip float. Pentru a beneficia de împărțirea întreagă se poate folosi operatorul [`float division`](https://www.python.org/dev/peps/pep-0238/) (`//`)"
   ]
  },
  {
   "cell_type": "code",
   "execution_count": 4,
   "metadata": {},
   "outputs": [
    {
     "data": {
      "text/plain": [
       "2.3333333333333335"
      ]
     },
     "execution_count": 4,
     "metadata": {},
     "output_type": "execute_result"
    }
   ],
   "source": [
    "7/3"
   ]
  },
  {
   "cell_type": "code",
   "execution_count": 5,
   "metadata": {},
   "outputs": [
    {
     "data": {
      "text/plain": [
       "2"
      ]
     },
     "execution_count": 5,
     "metadata": {},
     "output_type": "execute_result"
    }
   ],
   "source": [
    "7//3"
   ]
  },
  {
   "cell_type": "markdown",
   "metadata": {},
   "source": [
    " - operatorul modulo (div)"
   ]
  },
  {
   "cell_type": "code",
   "execution_count": 7,
   "metadata": {},
   "outputs": [
    {
     "data": {
      "text/plain": [
       "2"
      ]
     },
     "execution_count": 7,
     "metadata": {},
     "output_type": "execute_result"
    }
   ],
   "source": [
    "7 % 5"
   ]
  },
  {
   "cell_type": "markdown",
   "metadata": {},
   "source": [
    " -  ridicarea la putere (fără a folosi librării suplimentare)"
   ]
  },
  {
   "cell_type": "code",
   "execution_count": 6,
   "metadata": {},
   "outputs": [
    {
     "data": {
      "text/plain": [
       "343"
      ]
     },
     "execution_count": 6,
     "metadata": {},
     "output_type": "execute_result"
    }
   ],
   "source": [
    "7 ** 3"
   ]
  },
  {
   "cell_type": "markdown",
   "metadata": {},
   "source": [
    "Aceste operații pot fi foarte ușor combinate pentru a face calcule mai avansate:"
   ]
  },
  {
   "cell_type": "code",
   "execution_count": 8,
   "metadata": {},
   "outputs": [
    {
     "data": {
      "text/plain": [
       "2.5"
      ]
     },
     "execution_count": 8,
     "metadata": {},
     "output_type": "execute_result"
    }
   ],
   "source": [
    "(50-5*6)/8"
   ]
  },
  {
   "cell_type": "markdown",
   "metadata": {},
   "source": [
    "### Ordinea efectuării operațiilor\n",
    "\n",
    "Parantezele sunt importante în Python. Când vine vorba de calcul, Python calculează întotdeauna ceea ce este între paranteze mai întâi.\n",
    "\n",
    "Limbajul Python urmează aceeași ordine de operații ca în matematică. Un acronim foarte folosit în limba engleză este PEMDAS: parantezele prima dată, exponențierea a doua, multiplicarea / divizarea a treia și adunarea / scăderea ultima.\n",
    "\n",
    "Sa considerăm următoarea expresie: `5 + 2 * -3`\n",
    "\n",
    "Primul lucru de reținut este că semnul negativ și semnul scăderii sunt aceleași lucru în Python. Să aruncăm o privire la următorul exemplu. Python va înmulți mai întâi numerele 2 și –3, apoi va adăuga 5:"
   ]
  },
  {
   "cell_type": "code",
   "execution_count": 9,
   "metadata": {},
   "outputs": [
    {
     "data": {
      "text/plain": [
       "-1"
      ]
     },
     "execution_count": 9,
     "metadata": {},
     "output_type": "execute_result"
    }
   ],
   "source": [
    "5 + 2 * -3"
   ]
  },
  {
   "cell_type": "markdown",
   "metadata": {},
   "source": [
    "Dacă punem paranteze în jurul valorilor 5 și 2, obținem un rezultat diferit:"
   ]
  },
  {
   "cell_type": "code",
   "execution_count": 10,
   "metadata": {},
   "outputs": [
    {
     "data": {
      "text/plain": [
       "-21"
      ]
     },
     "execution_count": 10,
     "metadata": {},
     "output_type": "execute_result"
    }
   ],
   "source": [
    "(5 + 2) * -3"
   ]
  },
  {
   "cell_type": "markdown",
   "metadata": {},
   "source": [
    "Dacă aveți vreun dubiu, folosiți paranteze. Parantezele sunt foarte utile pentru expresii complexe, iar parantezele suplimentare nu afectează codul."
   ]
  },
  {
   "cell_type": "markdown",
   "metadata": {},
   "source": [
    "### Spatierea in Python\n",
    "\n",
    "Poate că v-ați întrebat despre spațiile dintre numere și simboluri. În Python, spațiile după un număr sau un simbol nu au nicio semnificație. Deci, `5 ** 3` și `5 ** 3` ambele au ca rezultat `125`.\n",
    "\n",
    "Spațiile sunt menite să îmbunătățească lizibilitatea. Deși nu există o cale corectă de cod spațial, spațiile sunt, în general, încurajate între operanzi și operatori. Astfel, `5 ** 3` este de preferat.\n",
    "\n",
    "Încercarea de a respecta anumite convenții este perfect acceptabilă. Dacă dezvoltați obiceiuri bune la început, va facilita citirea și depanarea codului mai târziu."
   ]
  },
  {
   "cell_type": "markdown",
   "metadata": {},
   "source": [
    "### Tipuri de numere: Numere întregi și cu virgulă mobilă\n",
    "\n",
    "În aceste ultime câteva rânduri, am sarit insa peste o mulțime de lucruri pentru care ar trebui să ne oprim pentru o clipă și să le explorăm puțin mai pe deplin. \n",
    "\n",
    "Luați în considerare numerele 8 și 8.0. Știm că 8 și 8.0 sunt echivalente din punct de vedere matematic. Amândouă reprezintă același număr, dar sunt de tipuri diferite. 8 este un număr întreg, iar 8.0 este o zecimală sau float.\n",
    "\n",
    "Acest lucru s-a văzut si in celulele de mai sus. Am intalnit două tipuri de date diferite la rezultate: **integers**, cunoscute și ca *numere întregi* în limbajul comun, matematic și **floating point numbers** (numere cu virgulă mobilă), cunoscute (incorect) ca *numere zecimale* pentru restul lumii.\n",
    "\n",
    "Tipurile Python pot fi obținute în mod explicit folosind instructiunea `type()`, așa cum veți vedea în exercițiul următor."
   ]
  },
  {
   "cell_type": "code",
   "execution_count": 11,
   "metadata": {},
   "outputs": [
    {
     "data": {
      "text/plain": [
       "int"
      ]
     },
     "execution_count": 11,
     "metadata": {},
     "output_type": "execute_result"
    }
   ],
   "source": [
    "type(8)"
   ]
  },
  {
   "cell_type": "code",
   "execution_count": 12,
   "metadata": {},
   "outputs": [
    {
     "data": {
      "text/plain": [
       "float"
      ]
     },
     "execution_count": 12,
     "metadata": {},
     "output_type": "execute_result"
    }
   ],
   "source": [
    "type(8.0)"
   ]
  },
  {
   "cell_type": "markdown",
   "metadata": {},
   "source": [
    "### Tipuri de numere complexe\n",
    "\n",
    "Python include și numere complexe ca tip de date de bază. Numerele complexe apar atunci când vrem să extragem rădăcinile pătrate din numerelor negative. Nu există un număr real a cărui pătrat să fie -9, deci spunem că rădăcina pătrată a lui -9 este egală cu 3i. Un alt exemplu de număr complex este 2i + 3. Python folosește j în loc de i.\n",
    "\n",
    "Următorul fragment de cod va prezintă cum să lucrați cu tipuri de numere complexe.\n",
    "\n",
    "Împărțiți `2 + 3j` la `1 - 5j`, cuprinzând ambele operații între paranteze:"
   ]
  },
  {
   "cell_type": "code",
   "execution_count": 106,
   "metadata": {},
   "outputs": [
    {
     "data": {
      "text/plain": [
       "(-0.5+0.5j)"
      ]
     },
     "execution_count": 106,
     "metadata": {},
     "output_type": "execute_result"
    }
   ],
   "source": [
    "(2 + 3j) / (1 - 5j)"
   ]
  },
  {
   "cell_type": "markdown",
   "metadata": {},
   "source": [
    "Pentru mai multe informații despre numerele complexe, consultați https://docs.python.org/3.9/library/cmath.html"
   ]
  },
  {
   "cell_type": "markdown",
   "metadata": {},
   "source": [
    "Python are un număr mare de biblioteci incluse în distribuția sa. Pentru a simplifica lucrurile, majoritatea acestor variabile și funcții nu sunt accesibile dintr-o sesiune interactivă normală Python. În schimb, trebuie să importați numele. De exemplu, există un modul **math** care conține multe funcții utile. Pentru a accesa, să zicem, funcția rădăcină pătrată, mai întâi trebuie importata aceasta functie din libraria `math` și apoi apelata"
   ]
  },
  {
   "cell_type": "code",
   "execution_count": 14,
   "metadata": {},
   "outputs": [
    {
     "data": {
      "text/plain": [
       "9.0"
      ]
     },
     "execution_count": 14,
     "metadata": {},
     "output_type": "execute_result"
    }
   ],
   "source": [
    "from math import sqrt\n",
    "sqrt(81)"
   ]
  },
  {
   "cell_type": "markdown",
   "metadata": {},
   "source": [
    "sau puteți, pur și simplu, să importați biblioteca `math` în integralitate"
   ]
  },
  {
   "cell_type": "code",
   "execution_count": 15,
   "metadata": {},
   "outputs": [
    {
     "data": {
      "text/plain": [
       "9.0"
      ]
     },
     "execution_count": 15,
     "metadata": {},
     "output_type": "execute_result"
    }
   ],
   "source": [
    "import math\n",
    "math.sqrt(81)"
   ]
  },
  {
   "cell_type": "markdown",
   "metadata": {},
   "source": [
    "### Variabile\n",
    "\n",
    "În Python, variabilele sunt adrese de memorie care pot stoca elemente de orice tip. Numele variabilei este menit să fie sugestiv, deoarece ideea din spatele unei variabile este că valoarea poate varia de-a lungul unui anumit program.\n",
    "\n",
    "În Python, variabilele sunt introduse la fel ca în matematică, folosind semnul egal. În majoritatea limbajelor de programare, totuși, ordinea contează; adică x = 3.14 înseamnă că valoarea 3.14 este atribuită lui x. Cu toate acestea, 3.14 = x va produce o eroare deoarece este imposibil să atribuiți o variabilă unui număr.\n",
    "\n",
    "Puteți defini variabile folosind semnul egal (=):"
   ]
  },
  {
   "cell_type": "code",
   "execution_count": 16,
   "metadata": {},
   "outputs": [
    {
     "data": {
      "text/plain": [
       "600"
      ]
     },
     "execution_count": 16,
     "metadata": {},
     "output_type": "execute_result"
    }
   ],
   "source": [
    "width = 20\n",
    "length = 30\n",
    "area = length*width\n",
    "area"
   ]
  },
  {
   "cell_type": "markdown",
   "metadata": {},
   "source": [
    "Dacă încercați să accesați o variabilă pe care nu ați definit-o încă, veți primi o eroare:"
   ]
  },
  {
   "cell_type": "code",
   "execution_count": 17,
   "metadata": {},
   "outputs": [
    {
     "ename": "NameError",
     "evalue": "name 'volume' is not defined",
     "output_type": "error",
     "traceback": [
      "\u001b[1;31m---------------------------------------------------------------------------\u001b[0m",
      "\u001b[1;31mNameError\u001b[0m                                 Traceback (most recent call last)",
      "\u001b[1;32m<ipython-input-17-6211527fe2c2>\u001b[0m in \u001b[0;36m<module>\u001b[1;34m\u001b[0m\n\u001b[1;32m----> 1\u001b[1;33m \u001b[0mvolume\u001b[0m\u001b[1;33m\u001b[0m\u001b[1;33m\u001b[0m\u001b[0m\n\u001b[0m",
      "\u001b[1;31mNameError\u001b[0m: name 'volume' is not defined"
     ]
    }
   ],
   "source": [
    "volume"
   ]
  },
  {
   "cell_type": "markdown",
   "metadata": {},
   "source": [
    "și trebuie să o definiți:"
   ]
  },
  {
   "cell_type": "code",
   "execution_count": 18,
   "metadata": {},
   "outputs": [
    {
     "data": {
      "text/plain": [
       "6000"
      ]
     },
     "execution_count": 18,
     "metadata": {},
     "output_type": "execute_result"
    }
   ],
   "source": [
    "depth = 10\n",
    "volume = area*depth\n",
    "volume"
   ]
  },
  {
   "cell_type": "markdown",
   "metadata": {},
   "source": [
    "Puteți denumi o variabilă cu *aproape* orice nume doriți. Trebuie să înceapă cu un caracter alfabetic sau \"\\_\", poate conține caractere alfanumerice plus caractere de subliniere (\"\\_\"). Cu toate acestea, anumite cuvinte sunt rezervate limbajului Python:\n",
    "\n",
    "    and, as, assert, break, class, continue, def, del, elif, else, except, \n",
    "    exec, finally, for, from, global, if, import, in, is, lambda, not, or,\n",
    "    pass, print, raise, return, try, while, with, yield\n",
    "\n",
    "Încercarea de a defini o variabilă folosind una dintre acestea va duce la o eroare de sintaxă:"
   ]
  },
  {
   "cell_type": "code",
   "execution_count": 19,
   "metadata": {},
   "outputs": [
    {
     "ename": "SyntaxError",
     "evalue": "invalid syntax (<ipython-input-19-c7a05f6eb55e>, line 1)",
     "output_type": "error",
     "traceback": [
      "\u001b[1;36m  File \u001b[1;32m\"<ipython-input-19-c7a05f6eb55e>\"\u001b[1;36m, line \u001b[1;32m1\u001b[0m\n\u001b[1;33m    return = 0\u001b[0m\n\u001b[1;37m           ^\u001b[0m\n\u001b[1;31mSyntaxError\u001b[0m\u001b[1;31m:\u001b[0m invalid syntax\n"
     ]
    }
   ],
   "source": [
    "return = 0"
   ]
  },
  {
   "cell_type": "markdown",
   "metadata": {},
   "source": [
    "### Schimbarea tipului de variabilă\n",
    "\n",
    "În unele limbaje de programare, tipul variabilelor trebuie declarat și nu este posibil ca o variabilă să-și schimbe tipul de dată. Aceasta înseamnă că dacă variabila `y` este un număr întreg, atunci `y` trebuie să fie întotdeauna un număr întreg. Python, cu toate acestea, are tipizare dinamică (tipul variabilelor nu este fixat la momentul declarării acestora, ci este determinat de interpretor după conținutul lor sau după operațiile efectuate).\n",
    "\n",
    "Vom verifica acest fapt prin urmatorul exemplu:"
   ]
  },
  {
   "cell_type": "code",
   "execution_count": 39,
   "metadata": {},
   "outputs": [
    {
     "data": {
      "text/plain": [
       "int"
      ]
     },
     "execution_count": 39,
     "metadata": {},
     "output_type": "execute_result"
    }
   ],
   "source": [
    "y = 10\n",
    "type(y)"
   ]
  },
  {
   "cell_type": "code",
   "execution_count": 40,
   "metadata": {},
   "outputs": [
    {
     "data": {
      "text/plain": [
       "float"
      ]
     },
     "execution_count": 40,
     "metadata": {},
     "output_type": "execute_result"
    }
   ],
   "source": [
    "y = y - 10.0\n",
    "type(y)"
   ]
  },
  {
   "cell_type": "markdown",
   "metadata": {},
   "source": [
    "### Reatribuirea variabilelor in variabila curenta\n",
    "\n",
    "În programare obișnuim deseori să adăugăm 1 la o variabilă; de exemplu, `x = x + 1`. Abrevierea pentru această operație este de a folosi + = ca în următorul exemplu:"
   ]
  },
  {
   "cell_type": "code",
   "execution_count": 41,
   "metadata": {},
   "outputs": [
    {
     "data": {
      "text/plain": [
       "2"
      ]
     },
     "execution_count": 41,
     "metadata": {},
     "output_type": "execute_result"
    }
   ],
   "source": [
    "x = 2\n",
    "x"
   ]
  },
  {
   "cell_type": "code",
   "execution_count": 42,
   "metadata": {},
   "outputs": [
    {
     "data": {
      "text/plain": [
       "3"
      ]
     },
     "execution_count": 42,
     "metadata": {},
     "output_type": "execute_result"
    }
   ],
   "source": [
    "x += 1\n",
    "x"
   ]
  },
  {
   "cell_type": "markdown",
   "metadata": {},
   "source": [
    "În Python, următorii operatori de alocare sunt utilizați pentru a atribui valori variabilelor:\n",
    "\n",
    "<table class=\"w3-table-all notranslate\">\n",
    "<tbody><tr>\n",
    "<th style=\"width:30%\">Operator</th>\n",
    "<th style=\"width:30%\">Exemplu</th>\n",
    "<th style=\"width:40%\">Identic cu</th>\n",
    "</tr>\n",
    "<tr>\n",
    "<td>=</td>\n",
    "<td>x = 5</td>\n",
    "<td>x = 5</td>\n",
    "</tr>\n",
    "  <tr>\n",
    "<td>+=</td>\n",
    "<td>x += 3</td>\n",
    "<td>x = x + 3</td>\n",
    "  </tr>\n",
    "  <tr>\n",
    "<td>-=</td>\n",
    "<td>x -= 3</td>\n",
    "<td>x = x - 3</td>\n",
    "  </tr>\n",
    "  <tr>\n",
    "<td>*=</td>\n",
    "<td>x *= 3</td>\n",
    "<td>x = x * 3</td>\n",
    "  </tr>\n",
    "  <tr>\n",
    "<td>/=</td>\n",
    "<td>x /= 3</td>\n",
    "<td>x = x / 3</td>\n",
    "  </tr>\n",
    "  <tr>\n",
    "<td>%=</td>\n",
    "<td>x %= 3</td>\n",
    "<td>x = x % 3</td>\n",
    "  </tr>\n",
    "  <tr>\n",
    "<td>//=</td>\n",
    "<td>x //= 3</td>\n",
    "<td>x = x // 3</td>\n",
    "  </tr>\n",
    "  <tr>\n",
    "<td>**=</td>\n",
    "<td>x **= 3</td>\n",
    "<td>x = x ** 3</td>\n",
    "  </tr>\n",
    "  <tr>\n",
    "<td>&amp;=</td>\n",
    "<td>x &amp;= 3</td>\n",
    "<td>x = x &amp; 3</td>\n",
    "  </tr>\n",
    "  <tr>\n",
    "<td>|=</td>\n",
    "<td>x |= 3</td>\n",
    "<td>x = x | 3</td>\n",
    "  </tr>\n",
    "<tr>\n",
    "<td>^=</td>\n",
    "<td>x ^= 3</td>\n",
    "<td>x = x ^ 3</td>\n",
    "</tr>\n",
    "<tr>\n",
    "<td>&gt;&gt;=</td>\n",
    "<td>x &gt;&gt;= 3</td>\n",
    "<td>x = x &gt;&gt; 3</td>\n",
    "</tr>\n",
    "<tr>\n",
    "<td>&lt;&lt;=</td>\n",
    "<td>x &lt;&lt;= 3</td>\n",
    "<td>x = x &lt;&lt; 3</td>\n",
    "</tr>\n",
    "</tbody></table>"
   ]
  },
  {
   "cell_type": "markdown",
   "metadata": {},
   "source": [
    "[Tutorialul Python](https://docs.python.org/3/tutorial/introduction.html#using-python-as-a-calculator) are mai multe informații despre utilizarea Python ca un shell interactiv. [Tutorialul IPython](https://ipython.readthedocs.io/en/stable/interactive/tutorial.html) face o completare frumoasă la acest lucru, deoarece IPython are un shell iteractiv mult mai sofisticat."
   ]
  },
  {
   "cell_type": "markdown",
   "metadata": {},
   "source": [
    "## Siruri de caractere (string-urile)\n",
    "Șirurile de caractere, cunoscute si sub numele de string-uri, sunt liste de caractere tipărite și pot fi definite folosind fie ghilimele simple"
   ]
  },
  {
   "cell_type": "code",
   "execution_count": 43,
   "metadata": {},
   "outputs": [
    {
     "data": {
      "text/plain": [
       "'Hello, World!'"
      ]
     },
     "execution_count": 43,
     "metadata": {},
     "output_type": "execute_result"
    }
   ],
   "source": [
    "'Hello, World!'"
   ]
  },
  {
   "cell_type": "markdown",
   "metadata": {},
   "source": [
    "ori ghilimelele duble"
   ]
  },
  {
   "cell_type": "code",
   "execution_count": 44,
   "metadata": {},
   "outputs": [
    {
     "data": {
      "text/plain": [
       "'Hello, World!'"
      ]
     },
     "execution_count": 44,
     "metadata": {},
     "output_type": "execute_result"
    }
   ],
   "source": [
    "\"Hello, World!\""
   ]
  },
  {
   "cell_type": "markdown",
   "metadata": {},
   "source": [
    "dar nu ambele în același timp, cu excepția cazului în care doriți ca unul dintre simboluri să facă parte din șir."
   ]
  },
  {
   "cell_type": "code",
   "execution_count": 107,
   "metadata": {},
   "outputs": [
    {
     "data": {
      "text/plain": [
       "\"He's a Rebel\""
      ]
     },
     "execution_count": 107,
     "metadata": {},
     "output_type": "execute_result"
    }
   ],
   "source": [
    "\"He's a Rebel\""
   ]
  },
  {
   "cell_type": "code",
   "execution_count": 108,
   "metadata": {},
   "outputs": [
    {
     "data": {
      "text/plain": [
       "'She asked, \"How are you today?\"'"
      ]
     },
     "execution_count": 108,
     "metadata": {},
     "output_type": "execute_result"
    }
   ],
   "source": [
    "'She asked, \"How are you today?\"'"
   ]
  },
  {
   "cell_type": "markdown",
   "metadata": {},
   "source": [
    "La fel ca celelalte două tipuri de date cu care ne-am familiarizat deja (`int` și `float`), putem atribui un șir de caractere unei variabile"
   ]
  },
  {
   "cell_type": "code",
   "execution_count": 47,
   "metadata": {},
   "outputs": [],
   "source": [
    "greeting = \"Hello, World!\""
   ]
  },
  {
   "cell_type": "markdown",
   "metadata": {},
   "source": [
    "Instructiunea **print** este adesea utilizată pentru afișarea șirurilor de caractere:"
   ]
  },
  {
   "cell_type": "code",
   "execution_count": 48,
   "metadata": {},
   "outputs": [
    {
     "name": "stdout",
     "output_type": "stream",
     "text": [
      "Hello, World!\n"
     ]
    }
   ],
   "source": [
    "print(greeting)"
   ]
  },
  {
   "cell_type": "markdown",
   "metadata": {},
   "source": [
    "Dar ea poate afișa și alte tipuri de date decât șirurile:"
   ]
  },
  {
   "cell_type": "code",
   "execution_count": 50,
   "metadata": {},
   "outputs": [
    {
     "name": "stdout",
     "output_type": "stream",
     "text": [
      "The area is 600\n"
     ]
    }
   ],
   "source": [
    "print(\"The area is\",area)"
   ]
  },
  {
   "cell_type": "markdown",
   "metadata": {},
   "source": [
    "În rezultatul de mai sus, numărul 600 (stocat în variabila `area`) este convertit într-un șir înainte de a fi tipărit."
   ]
  },
  {
   "cell_type": "markdown",
   "metadata": {},
   "source": [
    "Puteți utiliza operatorul + pentru a concatena șirurile împreună:"
   ]
  },
  {
   "cell_type": "code",
   "execution_count": 51,
   "metadata": {},
   "outputs": [
    {
     "name": "stdout",
     "output_type": "stream",
     "text": [
      "Hello,World!\n"
     ]
    }
   ],
   "source": [
    "statement = \"Hello,\" + \"World!\"\n",
    "print(statement)"
   ]
  },
  {
   "cell_type": "markdown",
   "metadata": {},
   "source": [
    "Nu uitați de spațiul dintre string-uri, dacă doriți unul acolo."
   ]
  },
  {
   "cell_type": "code",
   "execution_count": 52,
   "metadata": {},
   "outputs": [
    {
     "name": "stdout",
     "output_type": "stream",
     "text": [
      "Hello, World!\n"
     ]
    }
   ],
   "source": [
    "statement = \"Hello, \" + \"World!\"\n",
    "print(statement)"
   ]
  },
  {
   "cell_type": "markdown",
   "metadata": {},
   "source": [
    "Puteți utiliza `+` pentru a concatena mai multe șiruri într-o singură declarație:"
   ]
  },
  {
   "cell_type": "code",
   "execution_count": 53,
   "metadata": {},
   "outputs": [
    {
     "name": "stdout",
     "output_type": "stream",
     "text": [
      "This is a longer statement.\n"
     ]
    }
   ],
   "source": [
    "print(\"This \" + \"is \" + \"a \" + \"longer \" + \"statement.\")"
   ]
  },
  {
   "cell_type": "markdown",
   "metadata": {},
   "source": [
    "Dacă aveți o mulțime de cuvinte de concatenat împreună, există alte modalități mai eficiente de a face acest lucru. Dar această metodă prezentata anterior este bună pentru a concatena câteva șiruri între ele."
   ]
  },
  {
   "cell_type": "markdown",
   "metadata": {},
   "source": [
    "## Liste\n",
    "Foarte des într-un limbaj de programare, se dorește păstrarea împreună a unui grup de articole similare. Python face acest lucru folosind un tip de date numit **list**."
   ]
  },
  {
   "cell_type": "code",
   "execution_count": 54,
   "metadata": {},
   "outputs": [
    {
     "data": {
      "text/plain": [
       "['Sunday', 'Monday', 'Tuesday', 'Wednesday', 'Thursday', 'Friday', 'Saturday']"
      ]
     },
     "execution_count": 54,
     "metadata": {},
     "output_type": "execute_result"
    }
   ],
   "source": [
    "days_of_the_week = [\"Sunday\",\"Monday\",\"Tuesday\",\"Wednesday\",\"Thursday\",\"Friday\",\"Saturday\"]\n",
    "days_of_the_week"
   ]
  },
  {
   "cell_type": "markdown",
   "metadata": {},
   "source": [
    "Puteți accesa elementele listei folosind indexul respectivului element:"
   ]
  },
  {
   "cell_type": "code",
   "execution_count": 56,
   "metadata": {},
   "outputs": [
    {
     "data": {
      "text/plain": [
       "'Tuesday'"
      ]
     },
     "execution_count": 56,
     "metadata": {},
     "output_type": "execute_result"
    }
   ],
   "source": [
    "days_of_the_week[2]"
   ]
  },
  {
   "cell_type": "markdown",
   "metadata": {},
   "source": [
    "Listele Python, la fel ca și in limbajul C, dar spre deosebire de Fortran, folosesc 0 ca index al primului element al unei liste. Astfel, în acest exemplu, elementul 0 este \"Sunday\", 1 este \"Monday\" și așa mai departe. Dacă trebuie să accesați al *n*-lea element de la sfârșitul listei, puteți utiliza un indice negativ. De exemplu, elementul -1 al unei liste este ultimul element:"
   ]
  },
  {
   "cell_type": "code",
   "execution_count": 58,
   "metadata": {},
   "outputs": [
    {
     "name": "stdout",
     "output_type": "stream",
     "text": [
      "Saturday\n"
     ]
    }
   ],
   "source": [
    "print(days_of_the_week[-1])"
   ]
  },
  {
   "cell_type": "markdown",
   "metadata": {},
   "source": [
    "Putem verifica că este aceeași zi a săptămânii ca și cum am fi accesat ultima valoare din cele șapte, în cazul nostru indexul fiind 6 (prima valoare a indexului fiind 0, cum am enuntat și mai sus)"
   ]
  },
  {
   "cell_type": "code",
   "execution_count": 60,
   "metadata": {},
   "outputs": [
    {
     "name": "stdout",
     "output_type": "stream",
     "text": [
      "Saturday\n"
     ]
    }
   ],
   "source": [
    "print(days_of_the_week[6])"
   ]
  },
  {
   "cell_type": "markdown",
   "metadata": {},
   "source": [
    "Puteți adăuga elemente suplimentare la listă utilizând comanda `.append()`:"
   ]
  },
  {
   "cell_type": "code",
   "execution_count": 61,
   "metadata": {},
   "outputs": [
    {
     "name": "stdout",
     "output_type": "stream",
     "text": [
      "['Fortran', 'C', 'C++', 'Java', 'R', 'Julia']\n",
      "['Fortran', 'C', 'C++', 'Java', 'R', 'Julia', 'Python']\n"
     ]
    }
   ],
   "source": [
    "languages = [\"Fortran\", \"C\", \"C++\", \"Java\", \"R\", \"Julia\"]\n",
    "print(languages)\n",
    "languages.append(\"Python\")\n",
    "print(languages)\n",
    "languages.remove('R')"
   ]
  },
  {
   "cell_type": "markdown",
   "metadata": {},
   "source": [
    "Comanda **range()** este o modalitate convenabilă de a face liste secvențiale de numere. În versiunea 3 a limbajului Python comanda `range()` generează o secvență imutabilă (un tuplu), fiind necesară si declarația `list` pentru a obține o listă secvențială de valori."
   ]
  },
  {
   "cell_type": "code",
   "execution_count": 62,
   "metadata": {},
   "outputs": [
    {
     "data": {
      "text/plain": [
       "[0, 1, 2, 3, 4, 5, 6, 7, 8, 9]"
      ]
     },
     "execution_count": 62,
     "metadata": {},
     "output_type": "execute_result"
    }
   ],
   "source": [
    "list(range(10))"
   ]
  },
  {
   "cell_type": "markdown",
   "metadata": {},
   "source": [
    "Rețineți că `range(n)` începe de la 0 și oferă lista secvențială a numerelor întregi mai mici de *n*. Dacă doriți să începeți de la un număr diferit, utilizați `range(start,stop)`"
   ]
  },
  {
   "cell_type": "code",
   "execution_count": 109,
   "metadata": {},
   "outputs": [
    {
     "data": {
      "text/plain": [
       "[2, 3, 4, 5, 6, 7]"
      ]
     },
     "execution_count": 109,
     "metadata": {},
     "output_type": "execute_result"
    }
   ],
   "source": [
    "list(range(2, 8))"
   ]
  },
  {
   "cell_type": "markdown",
   "metadata": {},
   "source": [
    "Listele create mai sus cu `range` au un *pas* de 1 între elemente. De asemenea, puteți da o dimensiune de pas fixă printr-o a treia comandă:"
   ]
  },
  {
   "cell_type": "code",
   "execution_count": 110,
   "metadata": {},
   "outputs": [
    {
     "data": {
      "text/plain": [
       "[0, 2, 4, 6, 8, 10, 12, 14, 16, 18]"
      ]
     },
     "execution_count": 110,
     "metadata": {},
     "output_type": "execute_result"
    }
   ],
   "source": [
    "evens = list(range(0, 20, 2))\n",
    "evens"
   ]
  },
  {
   "cell_type": "code",
   "execution_count": 111,
   "metadata": {},
   "outputs": [
    {
     "data": {
      "text/plain": [
       "6"
      ]
     },
     "execution_count": 111,
     "metadata": {},
     "output_type": "execute_result"
    }
   ],
   "source": [
    "evens[3]"
   ]
  },
  {
   "cell_type": "markdown",
   "metadata": {},
   "source": [
    "Listele nu trebuie să conțină același tip de date. De exemplu,"
   ]
  },
  {
   "cell_type": "code",
   "execution_count": 68,
   "metadata": {},
   "outputs": [
    {
     "name": "stdout",
     "output_type": "stream",
     "text": [
      "<class 'str'>\n",
      "<class 'int'>\n",
      "<class 'float'>\n",
      "<class 'complex'>\n",
      "<class 'bool'>\n"
     ]
    }
   ],
   "source": [
    "lista = [\"Today\", 7, 99.3, 2 + 3j, True]\n",
    "for i in range(len(lista)):\n",
    "    print(type(lista[i]))"
   ]
  },
  {
   "cell_type": "markdown",
   "metadata": {},
   "source": [
    "Cu toate acestea, este bine (dar nu esențial) să folosiți liste pentru obiecte similare care sunt cumva conectate logic. Dacă doriți să grupați diferite tipuri de date împreună într-un obiect de date compozit, cel mai bine este să folosiți **tuples** (tupluri), despre care vom vorbi mai jos.\n",
    "\n",
    "Puteți afla cât de lunga este (cate elemente are) o listă utilizează comanda `len()`:"
   ]
  },
  {
   "cell_type": "code",
   "execution_count": 69,
   "metadata": {},
   "outputs": [
    {
     "name": "stdout",
     "output_type": "stream",
     "text": [
      "Help on built-in function len in module builtins:\n",
      "\n",
      "len(obj, /)\n",
      "    Return the number of items in a container.\n",
      "\n"
     ]
    }
   ],
   "source": [
    "help(len)"
   ]
  },
  {
   "cell_type": "code",
   "execution_count": 70,
   "metadata": {},
   "outputs": [
    {
     "data": {
      "text/plain": [
       "10"
      ]
     },
     "execution_count": 70,
     "metadata": {},
     "output_type": "execute_result"
    }
   ],
   "source": [
    "len(evens)"
   ]
  },
  {
   "cell_type": "markdown",
   "metadata": {},
   "source": [
    "## Iteratii, indentare și blocuri\n",
    "Unul dintre cele mai utile lucruri pe care le puteți face cu listele este să *iterați* prin ele, adică să parcurgeți fiecare element câte unul. Pentru a face acest lucru în Python, folosim declarația `for`:"
   ]
  },
  {
   "cell_type": "code",
   "execution_count": 112,
   "metadata": {},
   "outputs": [
    {
     "name": "stdout",
     "output_type": "stream",
     "text": [
      "Sunday\n",
      "Monday\n",
      "Tuesday\n",
      "Wednesday\n",
      "Thursday\n",
      "Friday\n",
      "Saturday\n"
     ]
    }
   ],
   "source": [
    "for day in days_of_the_week:\n",
    "    print(day)"
   ]
  },
  {
   "cell_type": "markdown",
   "metadata": {},
   "source": [
    "Acest fragment de cod parcurge fiecare element al listei **days_of_the_week** și îl atribuie variabilei **day**. Apoi execută totul în blocul indentat (în acest caz doar o linie de cod, instrucțiunea de tipărire) folosind acele atribuiri variabile. Când programul a trecut prin fiecare element al listei, blocul de instrucțiuni se termina și programul iese din ciclul `for`.\n",
    "\n",
    "(Aproape) fiecare limbaj de programare definește blocuri de cod într-un fel. În Fortran, se utilizează instrucțiuni END (ENDDO, ENDIF etc.) pentru a defini blocuri de cod. În C, C++, Java și Perl, se utilizează acolade {} pentru a defini aceste blocuri.\n",
    "\n",
    "Python folosește doua puncte (\" : \"), urmate de un nivel de indentare pentru a defini blocuri de cod. Totul la un nivel superior de indentare este considerat a fi în același bloc. În exemplul de mai sus, blocul era doar o singură linie, dar am fi putut avea și blocuri mai lungi:"
   ]
  },
  {
   "cell_type": "code",
   "execution_count": 72,
   "metadata": {},
   "outputs": [
    {
     "name": "stdout",
     "output_type": "stream",
     "text": [
      "Today is Sunday\n",
      "Today is Monday\n",
      "Today is Tuesday\n",
      "Today is Wednesday\n",
      "Today is Thursday\n",
      "Today is Friday\n",
      "Today is Saturday\n"
     ]
    }
   ],
   "source": [
    "for day in days_of_the_week:\n",
    "    statement = \"Today is \" + day\n",
    "    print(statement)"
   ]
  },
  {
   "cell_type": "markdown",
   "metadata": {},
   "source": [
    "Comanda `range()` este deosebit de utilă cu instrucțiunea `for` pentru a executa bucle cu o lungime specificată:"
   ]
  },
  {
   "cell_type": "code",
   "execution_count": 73,
   "metadata": {},
   "outputs": [
    {
     "name": "stdout",
     "output_type": "stream",
     "text": [
      "The square of  0  is  0\n",
      "The square of  1  is  1\n",
      "The square of  2  is  4\n",
      "The square of  3  is  9\n",
      "The square of  4  is  16\n",
      "The square of  5  is  25\n",
      "The square of  6  is  36\n",
      "The square of  7  is  49\n",
      "The square of  8  is  64\n",
      "The square of  9  is  81\n",
      "The square of  10  is  100\n",
      "The square of  11  is  121\n",
      "The square of  12  is  144\n",
      "The square of  13  is  169\n",
      "The square of  14  is  196\n",
      "The square of  15  is  225\n",
      "The square of  16  is  256\n",
      "The square of  17  is  289\n",
      "The square of  18  is  324\n",
      "The square of  19  is  361\n"
     ]
    }
   ],
   "source": [
    "for i in range(20):\n",
    "    print (\"The square of \", i, \" is \", i*i)"
   ]
  },
  {
   "cell_type": "markdown",
   "metadata": {},
   "source": [
    "## Secționarea (Slicing-ul)\n",
    "Listele și șirurile au ceva în comun, pe care s-ar putea să nu-l suspectați: ambele pot fi tratate ca secvențe. Știți deja că puteți itera prin elementele unei liste. De asemenea, puteți itera prin literele dintr-un șir:"
   ]
  },
  {
   "cell_type": "code",
   "execution_count": 74,
   "metadata": {},
   "outputs": [
    {
     "name": "stdout",
     "output_type": "stream",
     "text": [
      "S\n",
      "u\n",
      "n\n",
      "d\n",
      "a\n",
      "y\n"
     ]
    }
   ],
   "source": [
    "for letter in \"Sunday\":\n",
    "    print(letter)"
   ]
  },
  {
   "cell_type": "markdown",
   "metadata": {},
   "source": [
    "Acest lucru este util doar ocazional. Puțin mai utilă este operația de tăiere, pe care o puteți utiliza și în orice secvență. Știm deja că putem folosi indexarea pentru a obține primul element al unei liste:"
   ]
  },
  {
   "cell_type": "code",
   "execution_count": 75,
   "metadata": {},
   "outputs": [
    {
     "data": {
      "text/plain": [
       "'Sunday'"
      ]
     },
     "execution_count": 75,
     "metadata": {},
     "output_type": "execute_result"
    }
   ],
   "source": [
    "days_of_the_week[0]"
   ]
  },
  {
   "cell_type": "markdown",
   "metadata": {},
   "source": [
    "Dacă dorim doar lista care conține primele două elemente ale unei liste, o putem obtine prin"
   ]
  },
  {
   "cell_type": "code",
   "execution_count": 76,
   "metadata": {},
   "outputs": [
    {
     "data": {
      "text/plain": [
       "['Sunday', 'Monday']"
      ]
     },
     "execution_count": 76,
     "metadata": {},
     "output_type": "execute_result"
    }
   ],
   "source": [
    "days_of_the_week[0:2]"
   ]
  },
  {
   "cell_type": "markdown",
   "metadata": {},
   "source": [
    "sau mai simplu"
   ]
  },
  {
   "cell_type": "code",
   "execution_count": 77,
   "metadata": {},
   "outputs": [
    {
     "data": {
      "text/plain": [
       "['Sunday', 'Monday']"
      ]
     },
     "execution_count": 77,
     "metadata": {},
     "output_type": "execute_result"
    }
   ],
   "source": [
    "days_of_the_week[:2]"
   ]
  },
  {
   "cell_type": "markdown",
   "metadata": {},
   "source": [
    "Dacă dorim ultimele articole din listă, putem face acest lucru cu secționare negativă:"
   ]
  },
  {
   "cell_type": "code",
   "execution_count": 78,
   "metadata": {},
   "outputs": [
    {
     "data": {
      "text/plain": [
       "['Friday', 'Saturday']"
      ]
     },
     "execution_count": 78,
     "metadata": {},
     "output_type": "execute_result"
    }
   ],
   "source": [
    "days_of_the_week[-2:]"
   ]
  },
  {
   "cell_type": "markdown",
   "metadata": {},
   "source": [
    "ceea ce este oarecum logic în concordanță cu indicii negativi care accesează ultimele elemente ale listei.\n",
    "\n",
    "Puteți face:"
   ]
  },
  {
   "cell_type": "code",
   "execution_count": 79,
   "metadata": {},
   "outputs": [
    {
     "name": "stdout",
     "output_type": "stream",
     "text": [
      "['Monday', 'Tuesday', 'Wednesday', 'Thursday', 'Friday']\n"
     ]
    }
   ],
   "source": [
    "workdays = days_of_the_week[1:6]\n",
    "print(workdays)"
   ]
  },
  {
   "cell_type": "markdown",
   "metadata": {},
   "source": [
    "Deoarece șirurile sunt secvențe, puteți face sectionare (sliceing) și pe acestea:"
   ]
  },
  {
   "cell_type": "code",
   "execution_count": 80,
   "metadata": {},
   "outputs": [
    {
     "name": "stdout",
     "output_type": "stream",
     "text": [
      "Sun\n"
     ]
    }
   ],
   "source": [
    "day = \"Sunday\"\n",
    "abbreviation = day[:3]\n",
    "print(abbreviation)"
   ]
  },
  {
   "cell_type": "markdown",
   "metadata": {},
   "source": [
    "Dacă doriți cu adevărat să explorați, puteți furniza un al treilea element în secționare, care specifică lungimea pasului (la fel cum un al treilea argument pentru `range()` specifica pasul):"
   ]
  },
  {
   "cell_type": "code",
   "execution_count": 81,
   "metadata": {},
   "outputs": [
    {
     "data": {
      "text/plain": [
       "[2, 4, 6, 8, 10, 12, 14, 16, 18, 20, 22, 24, 26, 28, 30, 32, 34, 36, 38]"
      ]
     },
     "execution_count": 81,
     "metadata": {},
     "output_type": "execute_result"
    }
   ],
   "source": [
    "numbers = list(range(0,40))\n",
    "evens = numbers[2::2]\n",
    "evens"
   ]
  },
  {
   "cell_type": "markdown",
   "metadata": {},
   "source": [
    "Rețineți că în acest exemplu am reușit chiar să omitem al doilea argument, astfel încât secvențierea să înceapă de la 2, să meargă pana la sfârșitul listei și să ia fiecare al doilea element, pentru a genera lista cu numere pare mai mici de 40."
   ]
  },
  {
   "cell_type": "markdown",
   "metadata": {},
   "source": [
    "## Boolean type și logica propozitiilor\n",
    "Deja am învățat câteva tipuri de date. Avem numere întregi (`int`) și numere în virgulă mobilă (`float`), șiruri și liste pentru a le conține. De asemenea, am aflat despre liste, un container care poate conține orice tip de date. Am învățat să afisam (\"printam\") variabile și să parcurgem elementele din liste. Vom afla acum despre variabilele **boolean** (logice) care pot fi fie adevărate, fie false.\n",
    "\n",
    "Invariabil avem nevoie de un anumit concept de *condiții* în programare pentru a controla comportamentul de ramificare, pentru a permite unui program să reacționeze diferit la diferite situații. \"Dacă este luni, mă voi duce la muncă, dar dacă este duminică, voi dormi\". Pentru a face acest lucru în Python, folosim o combinație de variabile logice, care se evaluează fie adevărat `True`, fie fals `False`, și instrucțiunea `if`, care controlează ramificarea pe baza valorilor booleene."
   ]
  },
  {
   "cell_type": "markdown",
   "metadata": {},
   "source": [
    "De exemplu:"
   ]
  },
  {
   "cell_type": "code",
   "execution_count": 82,
   "metadata": {},
   "outputs": [
    {
     "name": "stdout",
     "output_type": "stream",
     "text": [
      "Sleep in\n"
     ]
    }
   ],
   "source": [
    "if day == \"Sunday\":\n",
    "    print(\"Sleep in\")\n",
    "else:\n",
    "    print(\"Go to work\")"
   ]
  },
  {
   "cell_type": "markdown",
   "metadata": {},
   "source": [
    "(Test rapid: de ce secvența de cod nu a tipărit \"Go to work\" aici? Ce valoare are variabila \"day\"?)\n",
    "\n",
    "Să luăm instrucțiunile din secvența de cod separat pentru a vedea ce sa întâmplat. În primul rând, rețineți declarația"
   ]
  },
  {
   "cell_type": "code",
   "execution_count": 83,
   "metadata": {},
   "outputs": [
    {
     "data": {
      "text/plain": [
       "True"
      ]
     },
     "execution_count": 83,
     "metadata": {},
     "output_type": "execute_result"
    }
   ],
   "source": [
    "day == \"Sunday\""
   ]
  },
  {
   "cell_type": "markdown",
   "metadata": {},
   "source": [
    "Dacă evaluăm independent declarația, așa cum tocmai am făcut-o, vedem că returnează o valoare booleană, `False`. Operatorul „==” efectuează *testarea egalității*. Dacă cele două elemente sunt egale, returnează `True`, în caz contrar, returnează `False`. În acest caz, compară două variabile, șirul \"Sunday\" și orice este stocat în variabila \"day\", care, în acest caz, este celălalt șir \"Sunday\". Deoarece cele două șiruri sunt egale între ele, testul adevărului are o valoare adevarata."
   ]
  },
  {
   "cell_type": "markdown",
   "metadata": {},
   "source": [
    "Instrucțiunea `if` care verifica valoarea de adevăr a condiției este urmată de un bloc de cod (două puncte urmat de un bloc de cod indentat). Dacă condiția este adevărată, execută codul din acel bloc. Daca condiția ar fi fost falsă în exemplul de mai sus, nu am fi văzut codul respectiv executat.\n",
    "\n",
    "Primul bloc de cod este urmat de o instrucțiune `else`, care se execută dacă valoarea de adevar a condiției nu este adevărată. Deoarece valoarea a fost adevărată, acest cod nu este executat, motiv pentru care nu vedem \"Go to work\".\n",
    "\n",
    "Puteți compara orice tipuri de date în Python:"
   ]
  },
  {
   "cell_type": "code",
   "execution_count": 84,
   "metadata": {},
   "outputs": [
    {
     "data": {
      "text/plain": [
       "False"
      ]
     },
     "execution_count": 84,
     "metadata": {},
     "output_type": "execute_result"
    }
   ],
   "source": [
    "1 == 2"
   ]
  },
  {
   "cell_type": "code",
   "execution_count": 85,
   "metadata": {},
   "outputs": [
    {
     "data": {
      "text/plain": [
       "True"
      ]
     },
     "execution_count": 85,
     "metadata": {},
     "output_type": "execute_result"
    }
   ],
   "source": [
    "50 == 2*25"
   ]
  },
  {
   "cell_type": "code",
   "execution_count": 86,
   "metadata": {},
   "outputs": [
    {
     "data": {
      "text/plain": [
       "True"
      ]
     },
     "execution_count": 86,
     "metadata": {},
     "output_type": "execute_result"
    }
   ],
   "source": [
    "3 < 3.14159"
   ]
  },
  {
   "cell_type": "code",
   "execution_count": 87,
   "metadata": {},
   "outputs": [
    {
     "data": {
      "text/plain": [
       "True"
      ]
     },
     "execution_count": 87,
     "metadata": {},
     "output_type": "execute_result"
    }
   ],
   "source": [
    "1 == 1.0"
   ]
  },
  {
   "cell_type": "code",
   "execution_count": 88,
   "metadata": {},
   "outputs": [
    {
     "data": {
      "text/plain": [
       "True"
      ]
     },
     "execution_count": 88,
     "metadata": {},
     "output_type": "execute_result"
    }
   ],
   "source": [
    "1 != 0"
   ]
  },
  {
   "cell_type": "code",
   "execution_count": 89,
   "metadata": {},
   "outputs": [
    {
     "data": {
      "text/plain": [
       "True"
      ]
     },
     "execution_count": 89,
     "metadata": {},
     "output_type": "execute_result"
    }
   ],
   "source": [
    "1 <= 2"
   ]
  },
  {
   "cell_type": "code",
   "execution_count": 90,
   "metadata": {},
   "outputs": [
    {
     "data": {
      "text/plain": [
       "True"
      ]
     },
     "execution_count": 90,
     "metadata": {},
     "output_type": "execute_result"
    }
   ],
   "source": [
    "1 >= 1"
   ]
  },
  {
   "cell_type": "markdown",
   "metadata": {},
   "source": [
    "Vedem aici câțiva alți operatori booleeni, care ar trebui să fie auto-explicativi. Mai puțin decât, egalitate, neegalitate și așa mai departe.\n",
    "\n",
    "Deosebit de interesant este testul 1 == 1.0, care este adevărat deoarece, deși cele două obiecte sunt tipuri de date diferite (număr întreg și număr cu virgulă mobilă), ele au aceeași *valoare*. Există un alt operator boolean `is`, care testează dacă două obiecte sunt același obiect. \n",
    "\n",
    "Începand cu versiunea 3.8 compilatorul produce acum un [SyntaxWarning](https://docs.python.org/3.8/whatsnew/3.8.html#changes-in-python-behavior) atunci când verificările de identitate (`is` și `is not`) sunt utilizate cu anumite tipuri de literali (de ex. siruri, numere)."
   ]
  },
  {
   "cell_type": "code",
   "execution_count": 91,
   "metadata": {},
   "outputs": [
    {
     "name": "stderr",
     "output_type": "stream",
     "text": [
      "<>:1: SyntaxWarning: \"is\" with a literal. Did you mean \"==\"?\n",
      "<>:1: SyntaxWarning: \"is\" with a literal. Did you mean \"==\"?\n",
      "<ipython-input-91-2ebf4c947f31>:1: SyntaxWarning: \"is\" with a literal. Did you mean \"==\"?\n",
      "  1 is 1.0\n"
     ]
    },
    {
     "data": {
      "text/plain": [
       "False"
      ]
     },
     "execution_count": 91,
     "metadata": {},
     "output_type": "execute_result"
    }
   ],
   "source": [
    "1 is 1.0"
   ]
  },
  {
   "cell_type": "markdown",
   "metadata": {},
   "source": [
    "Putem face teste booleene (logice) și pe liste:"
   ]
  },
  {
   "cell_type": "code",
   "execution_count": 92,
   "metadata": {},
   "outputs": [
    {
     "data": {
      "text/plain": [
       "False"
      ]
     },
     "execution_count": 92,
     "metadata": {},
     "output_type": "execute_result"
    }
   ],
   "source": [
    "[1,2,3] == [1,2,4]"
   ]
  },
  {
   "cell_type": "code",
   "execution_count": 93,
   "metadata": {},
   "outputs": [
    {
     "data": {
      "text/plain": [
       "True"
      ]
     },
     "execution_count": 93,
     "metadata": {},
     "output_type": "execute_result"
    }
   ],
   "source": [
    "[1,2,3] < [1,2,4]"
   ]
  },
  {
   "cell_type": "markdown",
   "metadata": {},
   "source": [
    "În cele din urmă, rețineți că puteți, de asemenea, să compuneți mai multe comparații, ceea ce poate duce la teste foarte intuitive:"
   ]
  },
  {
   "cell_type": "code",
   "execution_count": 94,
   "metadata": {},
   "outputs": [
    {
     "data": {
      "text/plain": [
       "True"
      ]
     },
     "execution_count": 94,
     "metadata": {},
     "output_type": "execute_result"
    }
   ],
   "source": [
    "hours = 5\n",
    "0 < hours < 24"
   ]
  },
  {
   "cell_type": "markdown",
   "metadata": {},
   "source": [
    "Înstrucțiunile `if` pot avea părți `elif` (\"else if\"), în plus față de părțile `if` / `else`."
   ]
  },
  {
   "cell_type": "code",
   "execution_count": 95,
   "metadata": {},
   "outputs": [
    {
     "name": "stdout",
     "output_type": "stream",
     "text": [
      "Sleep in\n"
     ]
    }
   ],
   "source": [
    "if day == \"Sunday\":\n",
    "    print(\"Sleep in\")\n",
    "elif day == \"Saturday\":\n",
    "    print(\"Do chores\")\n",
    "else:\n",
    "    print(\"Go to work\")"
   ]
  },
  {
   "cell_type": "markdown",
   "metadata": {},
   "source": [
    "Desigur, putem combina instrucțiunile `if` cu bucle, pentru a crea o secventa de instrucțiuni care este aproape interesantă:"
   ]
  },
  {
   "cell_type": "code",
   "execution_count": 96,
   "metadata": {},
   "outputs": [
    {
     "name": "stdout",
     "output_type": "stream",
     "text": [
      "Today is Sunday\n",
      "\tSleep in\n",
      "Today is Monday\n",
      "\tGo to work\n",
      "Today is Tuesday\n",
      "\tGo to work\n",
      "Today is Wednesday\n",
      "\tGo to work\n",
      "Today is Thursday\n",
      "\tGo to work\n",
      "Today is Friday\n",
      "\tGo to work\n",
      "Today is Saturday\n",
      "\tDo chores\n"
     ]
    }
   ],
   "source": [
    "for day in days_of_the_week:\n",
    "    statement = \"Today is \" + day\n",
    "    print(statement)\n",
    "    if day == \"Sunday\":\n",
    "        print(\"\\tSleep in\")\n",
    "    elif day == \"Saturday\":\n",
    "        print(\"\\tDo chores\")\n",
    "    else:\n",
    "        print(\"\\tGo to work\")"
   ]
  },
  {
   "cell_type": "markdown",
   "metadata": {},
   "source": [
    "Acesta este un subiect avansat, dar tipurile de date obișnuite au valori booleene asociate cu ele și, într-adevăr, în versiunile timpurii ale Python-ului, nu exista un obiect boolean separat. În esență, orice a fost o valoare 0 (numărul întreg sau cu virgulă mobilă 0, un șir gol \"\" sau o listă goală []) a fost `False` și orice altceva a fost `True`. Puteți vedea valoarea booleană a oricărui obiect de date folosind funcția `bool()`."
   ]
  },
  {
   "cell_type": "code",
   "execution_count": 97,
   "metadata": {},
   "outputs": [
    {
     "data": {
      "text/plain": [
       "True"
      ]
     },
     "execution_count": 97,
     "metadata": {},
     "output_type": "execute_result"
    }
   ],
   "source": [
    "bool(1)"
   ]
  },
  {
   "cell_type": "code",
   "execution_count": 98,
   "metadata": {},
   "outputs": [
    {
     "data": {
      "text/plain": [
       "False"
      ]
     },
     "execution_count": 98,
     "metadata": {},
     "output_type": "execute_result"
    }
   ],
   "source": [
    "bool(0)"
   ]
  },
  {
   "cell_type": "code",
   "execution_count": 99,
   "metadata": {},
   "outputs": [
    {
     "data": {
      "text/plain": [
       "True"
      ]
     },
     "execution_count": 99,
     "metadata": {},
     "output_type": "execute_result"
    }
   ],
   "source": [
    "bool([\"This \",\" is \",\" a \",\" list\"])"
   ]
  },
  {
   "cell_type": "markdown",
   "metadata": {},
   "source": [
    "## Exemplu de cod: Secvența Fibonacci\n",
    "[Sirul lui Fibonacci](http://en.wikipedia.org/wiki/Fibonacci_number) este un sir în matematică care începe cu 0 și 1, iar apoi fiecare succesor este suma celor două precedente. Astfel, secvența merge 0, 1, 1, 2, 3, 5, 8, 13, 21, 34, 55, 89, ...\n",
    "\n",
    "Un exercițiu foarte obișnuit în programarea cărților este calcularea sirului Fibonacci până la un anumit număr *n*. Mai întâi voi arăta codul, apoi vom analiza ce face."
   ]
  },
  {
   "cell_type": "code",
   "execution_count": 100,
   "metadata": {},
   "outputs": [
    {
     "name": "stdout",
     "output_type": "stream",
     "text": [
      "[0, 1, 1, 2, 3, 5, 8, 13, 21, 34]\n"
     ]
    }
   ],
   "source": [
    "n = 10\n",
    "sequence = [0,1]\n",
    "for i in range(2,n): # This is going to be a problem if we ever set n <= 2!\n",
    "    sequence.append(sequence[i-1]+sequence[i-2])\n",
    "print(sequence)"
   ]
  },
  {
   "cell_type": "markdown",
   "metadata": {},
   "source": [
    "Să parcurgem această secventa linie cu linie. În primul rând, definim variabila *n* și o setăm la numărul întreg 20. *n* este lungimea secvenței pe care o vom forma și probabil ar trebui să aibă un nume de variabilă mai bun. Apoi creăm o variabilă numită **sequence** și o inițializăm la lista cu numerele întregi 0 și 1, primele două elemente ale secvenței Fibonacci. Trebuie să creăm aceste elemente \"manual\", deoarece partea iterativă a secvenței necesită două elemente anterioare.\n",
    "\n",
    "Apoi avem o buclă `for` pe lista numerelor întregi de la 2 (următorul element al listei) la *n* (lungimea secvenței). După două puncte, vedem un hashtag „#” și apoi un **comentariu** că dacă am fi setat *n* la un număr mai mic de 2 am avea o problemă. Comentariile din Python încep cu # și sunt modalități bune de a face notițe pentru dvs. sau pentru un utilizator al codului dvs., explicând de ce ați făcut ceea ce ați făcut. Mai bine decât comentariul de aici ar fi să testăm pentru a ne asigura că valoarea *n* este validă și să ne plângem dacă nu este; vom încerca asta mai târziu.\n",
    "\n",
    "În corpul buclei, adăugăm la listă un număr întreg egal cu suma celor două elemente anterioare ale listei.\n",
    "\n",
    "După ce ieșim din buclă (terminând indentarea) imprimăm întreaga listă. Asta e!"
   ]
  },
  {
   "cell_type": "markdown",
   "metadata": {},
   "source": [
    "## Funcții\n",
    "S-ar putea să dorim să folosim fragmentul Fibonacci cu lungimi de secvență diferite. Am putea tăia și lipi codul într-o altă celulă, schimbând valoarea *n*, dar este mai ușor și mai util să creați o funcție din cod. Facem acest lucru cu declarația `def` din Python:"
   ]
  },
  {
   "cell_type": "code",
   "execution_count": 101,
   "metadata": {},
   "outputs": [],
   "source": [
    "def fibonacci(sequence_length):\n",
    "    \"Return the Fibonacci sequence of length *sequence_length*\"\n",
    "    sequence = [0,1]\n",
    "    if sequence_length < 1:\n",
    "        print(\"Fibonacci sequence only defined for length 1 or greater\")\n",
    "        return\n",
    "    if 0 < sequence_length < 3:\n",
    "        return sequence[:sequence_length]\n",
    "    for i in range(2,sequence_length): \n",
    "        sequence.append(sequence[i-1]+sequence[i-2])\n",
    "    return sequence"
   ]
  },
  {
   "cell_type": "markdown",
   "metadata": {},
   "source": [
    "Acum putem apela functia `fibonacci()` pentru diferite lungimi de secvență:"
   ]
  },
  {
   "cell_type": "code",
   "execution_count": 102,
   "metadata": {},
   "outputs": [
    {
     "data": {
      "text/plain": [
       "[0,\n",
       " 1,\n",
       " 1,\n",
       " 2,\n",
       " 3,\n",
       " 5,\n",
       " 8,\n",
       " 13,\n",
       " 21,\n",
       " 34,\n",
       " 55,\n",
       " 89,\n",
       " 144,\n",
       " 233,\n",
       " 377,\n",
       " 610,\n",
       " 987,\n",
       " 1597,\n",
       " 2584,\n",
       " 4181,\n",
       " 6765,\n",
       " 10946,\n",
       " 17711,\n",
       " 28657,\n",
       " 46368,\n",
       " 75025,\n",
       " 121393,\n",
       " 196418,\n",
       " 317811,\n",
       " 514229,\n",
       " 832040,\n",
       " 1346269,\n",
       " 2178309,\n",
       " 3524578,\n",
       " 5702887,\n",
       " 9227465,\n",
       " 14930352,\n",
       " 24157817,\n",
       " 39088169,\n",
       " 63245986,\n",
       " 102334155,\n",
       " 165580141,\n",
       " 267914296,\n",
       " 433494437,\n",
       " 701408733,\n",
       " 1134903170,\n",
       " 1836311903,\n",
       " 2971215073,\n",
       " 4807526976,\n",
       " 7778742049,\n",
       " 12586269025,\n",
       " 20365011074,\n",
       " 32951280099,\n",
       " 53316291173,\n",
       " 86267571272,\n",
       " 139583862445,\n",
       " 225851433717,\n",
       " 365435296162,\n",
       " 591286729879,\n",
       " 956722026041,\n",
       " 1548008755920,\n",
       " 2504730781961,\n",
       " 4052739537881,\n",
       " 6557470319842,\n",
       " 10610209857723,\n",
       " 17167680177565,\n",
       " 27777890035288,\n",
       " 44945570212853,\n",
       " 72723460248141,\n",
       " 117669030460994,\n",
       " 190392490709135,\n",
       " 308061521170129,\n",
       " 498454011879264,\n",
       " 806515533049393,\n",
       " 1304969544928657,\n",
       " 2111485077978050,\n",
       " 3416454622906707,\n",
       " 5527939700884757,\n",
       " 8944394323791464,\n",
       " 14472334024676221,\n",
       " 23416728348467685,\n",
       " 37889062373143906,\n",
       " 61305790721611591,\n",
       " 99194853094755497,\n",
       " 160500643816367088,\n",
       " 259695496911122585,\n",
       " 420196140727489673,\n",
       " 679891637638612258,\n",
       " 1100087778366101931,\n",
       " 1779979416004714189,\n",
       " 2880067194370816120,\n",
       " 4660046610375530309,\n",
       " 7540113804746346429,\n",
       " 12200160415121876738,\n",
       " 19740274219868223167,\n",
       " 31940434634990099905,\n",
       " 51680708854858323072,\n",
       " 83621143489848422977,\n",
       " 135301852344706746049,\n",
       " 218922995834555169026]"
      ]
     },
     "execution_count": 102,
     "metadata": {},
     "output_type": "execute_result"
    }
   ],
   "source": [
    "fibonacci(100)"
   ]
  },
  {
   "cell_type": "code",
   "execution_count": 103,
   "metadata": {},
   "outputs": [
    {
     "data": {
      "text/plain": [
       "[0, 1, 1, 2, 3, 5, 8, 13, 21, 34, 55, 89]"
      ]
     },
     "execution_count": 103,
     "metadata": {},
     "output_type": "execute_result"
    }
   ],
   "source": [
    "fibonacci(12)"
   ]
  },
  {
   "cell_type": "markdown",
   "metadata": {},
   "source": [
    "Am introdus aici câteva funcții noi. În primul rând, rețineți că funcția în sine este definită ca un bloc de cod (doua puncte urmate de un bloc indentat). Acesta este modul standard în care Python delimitează lucrurile. Apoi, rețineți că prima linie a funcției este un singur șir. Aceasta se numește *docstring* și este un tip special de comentariu care este adesea disponibil pentru persoanele care utilizează funcția prin linia de comandă Python:"
   ]
  },
  {
   "cell_type": "code",
   "execution_count": 104,
   "metadata": {},
   "outputs": [
    {
     "name": "stdout",
     "output_type": "stream",
     "text": [
      "Help on function fibonacci in module __main__:\n",
      "\n",
      "fibonacci(sequence_length)\n",
      "    Return the Fibonacci sequence of length *sequence_length*\n",
      "\n"
     ]
    }
   ],
   "source": [
    "help(fibonacci)"
   ]
  },
  {
   "cell_type": "markdown",
   "metadata": {},
   "source": [
    "Dacă definiți un șir *docstring* pentru toate funcțiile dvs., este mai ușor pentru alte persoane să le folosească, deoarece acestea pot obține ajutor cu privire la argumentele și returnează valorile funcției.\n",
    "\n",
    "Apoi, rețineți că, decât să scrieti un comentariu despre valorile de intrare care duc la erori, avem unele testări ale acestor valori, urmate de un avertisment dacă valoarea este nevalidă și un cod condițional pentru a trata cazuri speciale."
   ]
  },
  {
   "cell_type": "code",
   "execution_count": null,
   "metadata": {},
   "outputs": [],
   "source": []
  }
 ],
 "metadata": {
  "kernelspec": {
   "display_name": "Python 3.8.1 64-bit",
   "language": "python",
   "name": "python38164bit85ccd876252d4741aeb5e5b59993560e"
  },
  "language_info": {
   "codemirror_mode": {
    "name": "ipython",
    "version": 3
   },
   "file_extension": ".py",
   "mimetype": "text/x-python",
   "name": "python",
   "nbconvert_exporter": "python",
   "pygments_lexer": "ipython3",
   "version": "3.8.1"
  }
 },
 "nbformat": 4,
 "nbformat_minor": 4
}
